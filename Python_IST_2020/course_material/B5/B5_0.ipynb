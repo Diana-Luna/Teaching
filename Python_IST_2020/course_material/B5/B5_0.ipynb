{
 "cells": [
  {
   "cell_type": "markdown",
   "metadata": {},
   "source": [
    "# Lesson 5: \n",
    "## An Intro to Scientific Computing and Data Visualization "
   ]
  },
  {
   "cell_type": "markdown",
   "metadata": {},
   "source": [
    "## 5.0 Introduction\n"
   ]
  },
  {
   "cell_type": "markdown",
   "metadata": {},
   "source": [
    "Python do wonderful things in its own but it reaches its full potential when *libraries* are considered. \n",
    "\n",
    "**What is a library?**\n",
    "\n",
    "A *library* (also called *module*) is a collection of methods that can loaded to perform new tasks. For instance, Python has no built-in functions for computing square roots (say $ \\sqrt{2}$), multiplying matrices or for drawing a scatter plot.\n",
    "\n",
    "[comment]: <> (*Why do we need to extend Python using libraries?*\n",
    "\n",
    "In principle, everything that can be programmed, can be programmed in Python without libraries. However, many functions \n",
    ")\n",
    "\n",
    "With libraries Python can perform tasks ranging from Cryptography to Game Development. In this lesson we will focus on two libraries extremely useful for almost any kind of scientific endeavour: \n",
    "\n",
    "**NumPy:** Designed for numerical computing, NumPy provides a wide spectrum of tools. From math functions such as $\\sin(x)$, $\\cos(x)$, $\\log(x)$, $e^x$, to the capability for working with matrices and to sample random numbers.\n",
    "\n",
    "**Matplotlib**: Matplotlib is an easy-to-use library for data visualization.\n",
    "\n",
    "After this lesson you should be able to know how to import a library, do some basic plotting, efficiently perform array and matrix operations, read data from a spreadsheet,\n",
    "and to generate an array with random numbers.\n",
    "\n",
    "\n",
    "[comment]: <> (Examples: Data manipulation and analysis 'Pandas',  Machine Learning 'scikit-learn'  more data visualization: https://matplotlib.org/thirdpartypackages/index.html\n",
    ")"
   ]
  }
 ],
 "metadata": {
  "kernelspec": {
   "display_name": "Python 3",
   "language": "python",
   "name": "python3"
  },
  "language_info": {
   "codemirror_mode": {
    "name": "ipython",
    "version": 3
   },
   "file_extension": ".py",
   "mimetype": "text/x-python",
   "name": "python",
   "nbconvert_exporter": "python",
   "pygments_lexer": "ipython3",
   "version": "3.8.3"
  }
 },
 "nbformat": 4,
 "nbformat_minor": 4
}
