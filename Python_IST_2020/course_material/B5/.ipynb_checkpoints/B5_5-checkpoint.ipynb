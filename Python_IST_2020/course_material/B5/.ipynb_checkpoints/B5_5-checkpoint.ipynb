{
 "cells": [
  {
   "cell_type": "markdown",
   "metadata": {},
   "source": [
    "# Lesson 5: \n",
    "## An Intro to Scientific Computing and Data Visualization "
   ]
  },
  {
   "cell_type": "markdown",
   "metadata": {},
   "source": [
    "## 5.5 Generating random numbers"
   ]
  },
  {
   "cell_type": "markdown",
   "metadata": {},
   "source": [
    "In this lesson we will how to do random sampling from different a random integer distribution:\n"
   ]
  },
  {
   "cell_type": "code",
   "execution_count": 22,
   "metadata": {},
   "outputs": [],
   "source": [
    "import numpy as np\n",
    "import matplotlib.pyplot as plt"
   ]
  },
  {
   "cell_type": "markdown",
   "metadata": {},
   "source": [
    "### 5.5.1 Random integers"
   ]
  },
  {
   "cell_type": "markdown",
   "metadata": {},
   "source": [
    "The function `np.random.randint(a, b, size)` returns random integers from the interval $[a,b)$. The `size` argument indicates the output array. This could be either an integer `n` for returning a 1D array of length `n`, or a tuple `(a,b)` for returning a 2D array with shape `(a,b)`. "
   ]
  },
  {
   "cell_type": "code",
   "execution_count": 8,
   "metadata": {
    "scrolled": true
   },
   "outputs": [
    {
     "data": {
      "text/plain": [
       "array([3, 5, 6, 3, 8, 9, 7, 7])"
      ]
     },
     "execution_count": 8,
     "metadata": {},
     "output_type": "execute_result"
    }
   ],
   "source": [
    "np.random.randint(3,10,8)"
   ]
  },
  {
   "cell_type": "code",
   "execution_count": 11,
   "metadata": {},
   "outputs": [
    {
     "data": {
      "text/plain": [
       "array([[ 0, -2,  0, -2],\n",
       "       [-2,  2, -1,  1],\n",
       "       [ 1,  0,  0, -1]])"
      ]
     },
     "execution_count": 11,
     "metadata": {},
     "output_type": "execute_result"
    }
   ],
   "source": [
    "np.random.randint(-2,3,(3,4))"
   ]
  },
  {
   "cell_type": "markdown",
   "metadata": {},
   "source": [
    "### 5.5.2 Random floats"
   ]
  },
  {
   "cell_type": "markdown",
   "metadata": {},
   "source": [
    "To sample from the interval $[0,1)$ uniformly at random, we use `np.random.random(size)`, where size can be either an integer or a tuple, similarly as for `randint`."
   ]
  },
  {
   "cell_type": "code",
   "execution_count": 13,
   "metadata": {},
   "outputs": [
    {
     "data": {
      "text/plain": [
       "array([0.83033895, 0.64888676, 0.29694443, 0.166069  , 0.18410011,\n",
       "       0.852694  , 0.70726271, 0.89076695, 0.97397522, 0.16621373])"
      ]
     },
     "execution_count": 13,
     "metadata": {},
     "output_type": "execute_result"
    }
   ],
   "source": [
    "np.random.random(10)"
   ]
  },
  {
   "cell_type": "code",
   "execution_count": 16,
   "metadata": {},
   "outputs": [
    {
     "data": {
      "text/plain": [
       "array([[0.18772099, 0.85573796, 0.72479397],\n",
       "       [0.54881396, 0.98425675, 0.67336433]])"
      ]
     },
     "execution_count": 16,
     "metadata": {},
     "output_type": "execute_result"
    }
   ],
   "source": [
    "np.random.random((2,3))"
   ]
  },
  {
   "cell_type": "markdown",
   "metadata": {},
   "source": [
    "**Quiz:** Can you build a function that samples floats uniformly at random from an interval $[-1,1)$? or from general interval $(a,b]$?"
   ]
  },
  {
   "cell_type": "markdown",
   "metadata": {},
   "source": [
    "### 5.5.3 Normal distribution"
   ]
  },
  {
   "cell_type": "markdown",
   "metadata": {},
   "source": [
    "Finally we present `np.random.normal(mean,sd,size)` which draws random samples from a normal (Gaussian) distribution\n",
    "with mean `mean`, standard deviation `sd`."
   ]
  },
  {
   "cell_type": "code",
   "execution_count": 27,
   "metadata": {
    "scrolled": true
   },
   "outputs": [
    {
     "name": "stdout",
     "output_type": "stream",
     "text": [
      "[-0.34328048 -0.24562852 -0.95629086 -0.14207685 -1.12289883 -0.22854753\n",
      "  0.41881219  0.23365827 -1.77667523  0.61721347 -1.05726312 -0.36465487\n",
      " -0.70888586  0.09275929  0.20482884  0.71395094 -0.07019719  0.62436174\n",
      " -0.14835504  0.10440905  1.60221943  0.90150554 -0.68969236 -0.42567989\n",
      "  0.87094719 -2.37920737 -1.06904395 -0.08463315  0.13600933  0.49944407\n",
      "  0.90359487 -0.18418056  0.27520433  1.1281351   1.09526122  0.26822172\n",
      "  0.68745682 -0.40330888 -0.06868448 -0.49480507 -0.78634931 -0.22882331\n",
      " -0.48292196  1.84151211  1.06452476  0.67698808 -1.0526466  -1.09285488\n",
      "  0.73301172  1.70478766  0.21580854  0.10641377  1.25475919  1.20768373\n",
      " -0.20259067 -0.57072884 -0.40741796 -1.41614183 -0.5014976  -1.25471411\n",
      " -0.1993062  -0.63698581  1.07108804  1.28907959  0.40887922 -1.43870005\n",
      " -0.74924244 -0.98815966  0.37551326 -2.10674732  1.25633884 -0.8252658\n",
      " -0.40891668  0.91242512  0.08952142 -0.47394438 -0.54609055 -1.24248321\n",
      "  0.0762229  -0.1850965   1.47371847 -0.66938616  0.2248071  -1.11520731\n",
      "  0.50482313 -0.31331044 -0.22310057  0.31144155 -0.11596364 -1.95015157\n",
      "  1.01828273  0.00759247 -0.28716293  0.1770506  -0.00317043 -1.88353078\n",
      " -2.29218436 -1.06999467 -0.91439345 -1.06846603]\n"
     ]
    }
   ],
   "source": [
    "a=np.random.normal(0,1,100)\n",
    "print(a)"
   ]
  },
  {
   "cell_type": "code",
   "execution_count": 20,
   "metadata": {},
   "outputs": [
    {
     "name": "stdout",
     "output_type": "stream",
     "text": [
      "[[ 1.88636755  0.44243205  3.79908522]\n",
      " [-0.33013849  1.56460107  0.48774861]\n",
      " [-0.73010432 -1.07059832 -2.33283942]]\n"
     ]
    }
   ],
   "source": [
    "B=np.random.normal(0,2,(3,3))\n",
    "print(B)"
   ]
  },
  {
   "cell_type": "markdown",
   "metadata": {},
   "source": [
    "We can indeed \"verify\" that our data comes from a normal distribution by plotting a histogram using the `hist` function:"
   ]
  },
  {
   "cell_type": "code",
   "execution_count": 29,
   "metadata": {},
   "outputs": [
    {
     "data": {
      "image/png": "[encoded data removed]",
      "text/plain": [
       "<Figure size 432x288 with 1 Axes>"
      ]
     },
     "metadata": {
      "needs_background": "light"
     },
     "output_type": "display_data"
    }
   ],
   "source": [
    "plt.hist(a)\n",
    "plt.show()"
   ]
  }
 ],
 "metadata": {
  "kernelspec": {
   "display_name": "Python 3",
   "language": "python",
   "name": "python3"
  },
  "language_info": {
   "codemirror_mode": {
    "name": "ipython",
    "version": 3
   },
   "file_extension": ".py",
   "mimetype": "text/x-python",
   "name": "python",
   "nbconvert_exporter": "python",
   "pygments_lexer": "ipython3",
   "version": "3.8.3"
  }
 },
 "nbformat": 4,
 "nbformat_minor": 4
}
